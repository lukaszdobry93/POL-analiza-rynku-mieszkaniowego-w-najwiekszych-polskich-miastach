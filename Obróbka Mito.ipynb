{
 "cells": [
  {
   "cell_type": "code",
   "execution_count": 1,
   "id": "corporate-eating",
   "metadata": {},
   "outputs": [],
   "source": [
    "import pandas as pd \n",
    "import numpy as np "
   ]
  },
  {
   "cell_type": "code",
   "execution_count": 2,
   "id": "owned-broad",
   "metadata": {},
   "outputs": [],
   "source": [
    "ludnosc = pd.read_excel('ludnosc excel 3.xlsx','DANE')\n",
    "mieszkania_oddane = pd.read_excel('mieszkania oddane do użytkowania.xlsx','DANE')\n",
    "sprzedaz_ogolem = pd.read_excel('rynkowa sprzedaż lokali mieszkalnych ogółem.xlsx','DANE')\n",
    "sprzedaz_podzial = pd.read_excel('rynkowa sprzedaż lokali mieszkalnych z podziałem na powierzchnię.xlsx','DANE')\n",
    "ceny_1m2 = pd.read_excel('mediana cen za 1m2.xlsx','DANE')\n",
    "bezrobocie = pd.read_excel('bezrobocie.xlsx','DANE')\n",
    "wynagrodzenia = pd.read_excel('wynagrodzenia brutto.xlsx','DANE')"
   ]
  },
  {
   "cell_type": "code",
   "execution_count": 3,
   "id": "rising-shuttle",
   "metadata": {},
   "outputs": [],
   "source": [
    "import mitosheet"
   ]
  },
  {
   "cell_type": "code",
   "execution_count": 4,
   "id": "verified-utility",
   "metadata": {},
   "outputs": [
    {
     "data": {
      "application/vnd.jupyter.widget-view+json": {
       "model_id": "818a8dbaf0a1440aa195a2004fc27258",
       "version_major": 2,
       "version_minor": 0
      },
      "text/plain": [
       "MitoWidget(analysis_name='UUID-390dfb38-adb8-4b57-bc7f-71a7f3186008', code_json='{\"imports\": \"from mitosheet i…"
      ]
     },
     "metadata": {},
     "output_type": "display_data"
    }
   ],
   "source": [
    "mitosheet.sheet(ludnosc)"
   ]
  },
  {
   "cell_type": "code",
   "execution_count": 5,
   "id": "backed-nowhere",
   "metadata": {},
   "outputs": [],
   "source": [
    "# MITO CODE START (DO NOT EDIT)\n",
    "\n",
    "from mitosheet import * # Import necessary functions from Mito\n",
    "register_analysis('UUID-390dfb38-adb8-4b57-bc7f-71a7f3186008') # Let Mito know which analysis is being run\n",
    "\n",
    "# Rename headers to make them work with Mito\n",
    "ludnosc.rename(columns={\"Miejsce zamieszkania / zameldowania\": \"Miejsce_zamieszkania___zameldowania\", \"Stan na dzie\\u0144\": \"Stan_na_dzie\\u0144\", \"Jednostka miary\": \"Jednostka_miary\"}, inplace=True)\n",
    "\n",
    "# Deleted column Kod from ludnosc\n",
    "ludnosc.drop('Kod', axis=1, inplace=True)\n",
    "\n",
    "# Deleted column Lokalizacje from ludnosc\n",
    "ludnosc.drop('Lokalizacje', axis=1, inplace=True)\n",
    "\n",
    "# Deleted column Miejsce_zamieszkania___zameldowania from ludnosc\n",
    "ludnosc.drop('Miejsce_zamieszkania___zameldowania', axis=1, inplace=True)\n",
    "\n",
    "# Deleted column Stan_na_dzień from ludnosc\n",
    "ludnosc.drop('Stan_na_dzień', axis=1, inplace=True)\n",
    "\n",
    "# Deleted column Płeć from ludnosc\n",
    "ludnosc.drop('Płeć', axis=1, inplace=True)\n",
    "\n",
    "# Renamed Wartosc to Ludnosc in ludnosc\n",
    "ludnosc.rename(columns={\"Wartosc\": \"Ludnosc\"}, inplace=True)\n",
    "\n",
    "# Deleted column Jednostka_miary from ludnosc\n",
    "ludnosc.drop('Jednostka_miary', axis=1, inplace=True)\n",
    "\n",
    "# Deleted column Atrybut from ludnosc\n",
    "ludnosc.drop('Atrybut', axis=1, inplace=True)\n",
    "\n",
    "  \n",
    "# MITO CODE END (DO NOT EDIT)"
   ]
  },
  {
   "cell_type": "code",
   "execution_count": 9,
   "id": "332375ec-37ed-4693-96b4-0f9990ae8071",
   "metadata": {},
   "outputs": [
    {
     "data": {
      "application/vnd.jupyter.widget-view+json": {
       "model_id": "94e163bc6a5e4313bc97faea980757eb",
       "version_major": 2,
       "version_minor": 0
      },
      "text/plain": [
       "MitoWidget(analysis_name='UUID-4f5588de-5b5b-49dd-a29e-d5eb4bb9fd5a', code_json='{\"imports\": \"from mitosheet i…"
      ]
     },
     "metadata": {},
     "output_type": "display_data"
    }
   ],
   "source": [
    "mitosheet.sheet(ceny_1m2)"
   ]
  },
  {
   "cell_type": "code",
   "execution_count": 10,
   "id": "39d67a9c-06d9-4ee8-8606-6b44ba0c63ac",
   "metadata": {},
   "outputs": [],
   "source": [
    "# MITO CODE START (DO NOT EDIT)\n",
    "\n",
    "from mitosheet import * # Import necessary functions from Mito\n",
    "register_analysis('UUID-4f5588de-5b5b-49dd-a29e-d5eb4bb9fd5a') # Let Mito know which analysis is being run\n",
    "\n",
    "# Rename headers to make them work with Mito\n",
    "ceny_1m2.rename(columns={\"Transakcje rynkowe\": \"Transakcje_rynkowe\", \"Powierzchnia u\\u017cytkowa lokali mieszkalnych\": \"Powierzchnia_u\\u017cytkowa_lokali_mieszkalnych\", \"Jednostka miary\": \"Jednostka_miary\"}, inplace=True)\n",
    "\n",
    "# Deleted column Kod from ceny_1m2\n",
    "ceny_1m2.drop('Kod', axis=1, inplace=True)\n",
    "\n",
    "# Deleted column Transakcje_rynkowe from ceny_1m2\n",
    "ceny_1m2.drop('Transakcje_rynkowe', axis=1, inplace=True)\n",
    "\n",
    "# Deleted column Powierzchnia_użytkowa_lokali_mieszkalnych from ceny_1m2\n",
    "ceny_1m2.drop('Powierzchnia_użytkowa_lokali_mieszkalnych', axis=1, inplace=True)\n",
    "\n",
    "# Deleted column Jednostka_miary from ceny_1m2\n",
    "ceny_1m2.drop('Jednostka_miary', axis=1, inplace=True)\n",
    "\n",
    "# Deleted column Atrybut from ceny_1m2\n",
    "ceny_1m2.drop('Atrybut', axis=1, inplace=True)\n",
    "\n",
    "# Renamed Wartosc to Ceny_za_m2 in ceny_1m2\n",
    "ceny_1m2.rename(columns={\"Wartosc\": \"Ceny_za_m2\"}, inplace=True)\n",
    "\n",
    "  \n",
    "# MITO CODE END (DO NOT EDIT)"
   ]
  },
  {
   "cell_type": "code",
   "execution_count": 11,
   "id": "b10c455a-a402-4615-92a2-2232aa84d16f",
   "metadata": {},
   "outputs": [
    {
     "data": {
      "application/vnd.jupyter.widget-view+json": {
       "model_id": "8242cdf5e39444e9a7adf97babfe6604",
       "version_major": 2,
       "version_minor": 0
      },
      "text/plain": [
       "MitoWidget(analysis_name='UUID-3d17ceac-43d8-4c9f-a89e-9d6a8cdc368c', code_json='{\"imports\": \"from mitosheet i…"
      ]
     },
     "metadata": {},
     "output_type": "display_data"
    }
   ],
   "source": [
    "mitosheet.sheet(bezrobocie)"
   ]
  },
  {
   "cell_type": "code",
   "execution_count": 12,
   "id": "d780f2aa-3c44-4ab2-8576-3d88f7480e48",
   "metadata": {},
   "outputs": [],
   "source": [
    "# MITO CODE START (DO NOT EDIT)\n",
    "\n",
    "from mitosheet import * # Import necessary functions from Mito\n",
    "register_analysis('UUID-3d17ceac-43d8-4c9f-a89e-9d6a8cdc368c') # Let Mito know which analysis is being run\n",
    "\n",
    "# Rename headers to make them work with Mito\n",
    "bezrobocie.rename(columns={\"Jednostka miary\": \"Jednostka_miary\"}, inplace=True)\n",
    "\n",
    "# Deleted column Kod from bezrobocie\n",
    "bezrobocie.drop('Kod', axis=1, inplace=True)\n",
    "\n",
    "# Deleted column Ogółem from bezrobocie\n",
    "bezrobocie.drop('Ogółem', axis=1, inplace=True)\n",
    "\n",
    "# Deleted column Jednostka_miary from bezrobocie\n",
    "bezrobocie.drop('Jednostka_miary', axis=1, inplace=True)\n",
    "\n",
    "# Deleted column Atrybut from bezrobocie\n",
    "bezrobocie.drop('Atrybut', axis=1, inplace=True)\n",
    "\n",
    "# Renamed Wartosc to Procent_bezrobocia in bezrobocie\n",
    "bezrobocie.rename(columns={\"Wartosc\": \"Procent_bezrobocia\"}, inplace=True)\n",
    "\n",
    "  \n",
    "# MITO CODE END (DO NOT EDIT)"
   ]
  },
  {
   "cell_type": "code",
   "execution_count": 13,
   "id": "dae3858d-95a3-4db5-9cff-d78106dd99c8",
   "metadata": {},
   "outputs": [
    {
     "data": {
      "application/vnd.jupyter.widget-view+json": {
       "model_id": "73a84f5d05ac4d31841fc2fea7e24dce",
       "version_major": 2,
       "version_minor": 0
      },
      "text/plain": [
       "MitoWidget(analysis_name='UUID-79f9cbf5-0fc9-44ce-a613-c3db0f85dbf0', code_json='{\"imports\": \"from mitosheet i…"
      ]
     },
     "metadata": {},
     "output_type": "display_data"
    }
   ],
   "source": [
    "mitosheet.sheet(wynagrodzenia)"
   ]
  },
  {
   "cell_type": "code",
   "execution_count": 14,
   "id": "fc838126-7eb8-43f7-b605-f051408bbd35",
   "metadata": {},
   "outputs": [],
   "source": [
    "# MITO CODE START (DO NOT EDIT)\n",
    "\n",
    "from mitosheet import * # Import necessary functions from Mito\n",
    "register_analysis('UUID-79f9cbf5-0fc9-44ce-a613-c3db0f85dbf0') # Let Mito know which analysis is being run\n",
    "\n",
    "# Rename headers to make them work with Mito\n",
    "wynagrodzenia.rename(columns={\"Jednostka miary\": \"Jednostka_miary\"}, inplace=True)\n",
    "\n",
    "# Deleted column Kod from wynagrodzenia\n",
    "wynagrodzenia.drop('Kod', axis=1, inplace=True)\n",
    "\n",
    "# Deleted column Wyszczególnienie from wynagrodzenia\n",
    "wynagrodzenia.drop('Wyszczególnienie', axis=1, inplace=True)\n",
    "\n",
    "# Deleted column Jednostka_miary from wynagrodzenia\n",
    "wynagrodzenia.drop('Jednostka_miary', axis=1, inplace=True)\n",
    "\n",
    "# Deleted column Atrybut from wynagrodzenia\n",
    "wynagrodzenia.drop('Atrybut', axis=1, inplace=True)\n",
    "\n",
    "# Renamed Wartosc to Wynagrodzenia in wynagrodzenia\n",
    "wynagrodzenia.rename(columns={\"Wartosc\": \"Wynagrodzenia\"}, inplace=True)\n",
    "\n",
    "  \n",
    "# MITO CODE END (DO NOT EDIT)"
   ]
  },
  {
   "cell_type": "code",
   "execution_count": 15,
   "id": "d38714d0-3071-4fb1-bc75-383c7d19b455",
   "metadata": {},
   "outputs": [],
   "source": [
    "do_analizy1 = pd.merge(ludnosc, ceny_1m2, on=['Nazwa', 'Rok'])\n",
    "do_analizy2 = pd.merge(do_analizy1, bezrobocie, on=['Nazwa', 'Rok'])\n",
    "do_analizy3 = pd.merge(do_analizy2, wynagrodzenia, on=['Nazwa', 'Rok'])"
   ]
  },
  {
   "cell_type": "code",
   "execution_count": 18,
   "id": "7d5bd7da-62d3-48f9-9a18-31075fbda7b1",
   "metadata": {},
   "outputs": [],
   "source": [
    "do_analizy3.to_csv('do_analizy.csv', index=False)"
   ]
  },
  {
   "cell_type": "code",
   "execution_count": null,
   "id": "b9e0a941-f664-4a04-8617-b6234fbf8a7a",
   "metadata": {},
   "outputs": [],
   "source": []
  }
 ],
 "metadata": {
  "kernelspec": {
   "display_name": "Python 3",
   "language": "python",
   "name": "python3"
  },
  "language_info": {
   "codemirror_mode": {
    "name": "ipython",
    "version": 3
   },
   "file_extension": ".py",
   "mimetype": "text/x-python",
   "name": "python",
   "nbconvert_exporter": "python",
   "pygments_lexer": "ipython3",
   "version": "3.9.1"
  }
 },
 "nbformat": 4,
 "nbformat_minor": 5
}
